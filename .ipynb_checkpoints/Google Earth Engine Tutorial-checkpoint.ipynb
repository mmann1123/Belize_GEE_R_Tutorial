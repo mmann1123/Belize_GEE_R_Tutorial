{
 "cells": [
  {
   "cell_type": "markdown",
   "metadata": {},
   "source": [
    "# Introduction to Google Earth Engine\n",
    "\n",
    "![EE data](header.png)    \n",
    "\n",
    "In the following page we will walk through the basics for using google earth engine to do remote sensing at large scale with minimal coding experience.\n",
    "\n",
    "The objectives of this tutorial are as follows\n",
    "\n",
    "- Browse and find relevant data\n",
    "- View satelite data\n",
    "- Apply code examples for Sentinel \n",
    "- Download data\n",
    "\n",
    "--------------------------"
   ]
  },
  {
   "cell_type": "markdown",
   "metadata": {},
   "source": [
    "## 1 Browse and find relevant data\n",
    "\n",
    "First we need to be able to find relevant data. Google Earth engine hosts a variety of data\n",
    "\n",
    "**Included themes**\n",
    "\n",
    "- Weather and Climate\n",
    "    - Temperatures\n",
    "    - Precipitation\n",
    "    - Drought\n",
    "- Land Use\n",
    "    - Agriculture\n",
    "    - Urban extent\n",
    "    - Population estimates\n",
    "    - Deforestation\n",
    "    - Water bodies\n",
    "- Pollution\n",
    "    - Aerosols\n",
    "    - Sulphur Dioxide\n",
    "    - Ozone\n",
    "- Raw remote sensed data\n",
    "    - True color images\n",
    "    - Other bands (thermal, IR etc)\n",
    "- Topography\n",
    "    - Elevation slope etc\n",
    "- Policy\n",
    "    - Daytime fishing hours\n",
    "    - Wildfire \n",
    "    \n",
    " "
   ]
  },
  {
   "cell_type": "markdown",
   "metadata": {},
   "source": [
    "    "
   ]
  },
  {
   "cell_type": "markdown",
   "metadata": {},
   "source": [
    "![](EE_datacatalog2.png)    \n",
    "\n",
    "#### Let's go to [https://developers.google.com/earth-engine/datasets/](https://developers.google.com/earth-engine/datasets/) \n",
    "    \n",
    "Click on view all datasets, then search for a topic of interest"
   ]
  },
  {
   "cell_type": "markdown",
   "metadata": {},
   "source": [
    "### *Activity*\n",
    "With your neighbor do the following:\n",
    "\n",
    "1) Find one dataset of interest\n",
    "\n",
    "2) Read the description of it, time perid available, coverage etc\n",
    "\n",
    "3) Discuss potential use case\n",
    "\n",
    "4) Discuss potential limitations of the data"
   ]
  },
  {
   "cell_type": "markdown",
   "metadata": {},
   "source": [
    "-------------------"
   ]
  },
  {
   "cell_type": "markdown",
   "metadata": {},
   "source": [
    "## 2 View satellite data\n",
    "\n",
    "Let's start by searching for \n",
    "\n",
    "``` Sentinel-2  ```\n",
    "\n",
    "then click on \"Sentinel-2 MSI:... Level 1-c\"\n",
    "![](GEE_search.png)    \n",
    "\n",
    "Sentinel-2 is a wide-swath, high-resolution, multi-spectral imaging mission supporting Copernicus Land Monitoring studies, including the monitoring of vegetation, soil and water cover, as well as observation of inland waterways and coastal areas.\n",
    "\n",
    "Now click on the \"Open in Editor\" button, then login using your google credentials.\n",
    "\n",
    "![](GEE_snip.png)    \n",
    "\n"
   ]
  },
  {
   "cell_type": "markdown",
   "metadata": {},
   "source": [
    "### Intro to the code editor\n",
    "\n",
    "We are going to be running our code on google's servers, so they built a coding environment for us to use. \n",
    "\n",
    "\n",
    "The parts we will use the most are the\n",
    "- Code editor\n",
    "- Map\n",
    "- Script manager\n",
    "- the Inspector tab\n",
    "- the Tasks tab\n",
    "\n",
    "![](GEE_codeeditor.png)    \n"
   ]
  },
  {
   "cell_type": "markdown",
   "metadata": {},
   "source": [
    "-----------------------------------------------------------------"
   ]
  },
  {
   "cell_type": "markdown",
   "metadata": {},
   "source": [
    "### *Activity*\n",
    "With your neighbor do the following:\n",
    "\n",
    "Click \"run\" ![](GEE_run.png)\n",
    "\n",
    "**TASKS**\n",
    "\n",
    "1) Figure out how to toggle on and off the sentinel image 'layer'\n",
    "2) Figure out how to save your script, name it Belize_Sentinel , *and then figure out where it is saved.*\n",
    "\n",
    "\n",
    "3) Reading through the code, figure out what the following is:\n",
    "\n",
    "![](GEE_collection.png)\n",
    "\n",
    "4) Using the above code, figure out how to change the date range from Jan 1 2017 - Dec 30 2017. Then press the \"run\" button.\n",
    "\n",
    "5) Find the line of code that \"centers\" the map at a specific longitude and latitude. Update it to the center of Belize, then zoom out to see the country, then press \"run\".\n",
    "\n",
    "![](GEE_latlon.png)\n",
    "\n",
    "-------------------\n"
   ]
  },
  {
   "cell_type": "markdown",
   "metadata": {},
   "source": [
    "There are two other main components to the code one function called **mask2cloud** this uses data stored on an image called QA60 to help filter out clouds. It uses a \"mask\" to indicate which pixels have a cloud by assigning them the value of 0 or 1. \n",
    "\n",
    "![](GEE_mask2cloud.png)\n",
    "\n",
    "The final chunk of code does two things, it tells the computer to take the **median** image and show it on our screen. Why median? Remember we are grabbing all images from Sentinel 2 (comes once ~ every 2 days), and filtering out a few cloudy images. So we have close to 180 images for this region. We need to summarize this data on a pixel by pixel basis, but which pixel value should we choose?  Probably median or mean because the represent the middle of the distribution. \n",
    "\n",
    "![](GEE_addlayer.png)\n"
   ]
  },
  {
   "cell_type": "markdown",
   "metadata": {},
   "source": [
    "### *Activity*\n",
    "With your neighbor do the following:\n",
    "\n",
    "**TASKS**\n",
    "\n",
    "1) Play around the the function used to summarize a year's worth of data. Try replacing ```median()``` with ```min()```. Then press 'run'. What is happening?\n",
    "\n",
    "2) Try replacing ```min()``` with ```max()```. Then press 'run'. What in the world is happening now? \n",
    "\n",
    "![](GEE_addlayer_zoom.png)\n",
    "\n"
   ]
  },
  {
   "cell_type": "markdown",
   "metadata": {},
   "source": [
    "## 3 Apply code examples for Sentinel"
   ]
  },
  {
   "cell_type": "markdown",
   "metadata": {},
   "source": [
    "## 4 Download data"
   ]
  },
  {
   "cell_type": "code",
   "execution_count": null,
   "metadata": {},
   "outputs": [],
   "source": []
  },
  {
   "cell_type": "code",
   "execution_count": null,
   "metadata": {},
   "outputs": [],
   "source": []
  }
 ],
 "metadata": {
  "kernelspec": {
   "display_name": "Python 3",
   "language": "python",
   "name": "python3"
  },
  "language_info": {
   "codemirror_mode": {
    "name": "ipython",
    "version": 3
   },
   "file_extension": ".py",
   "mimetype": "text/x-python",
   "name": "python",
   "nbconvert_exporter": "python",
   "pygments_lexer": "ipython3",
   "version": "3.6.7"
  }
 },
 "nbformat": 4,
 "nbformat_minor": 2
}
