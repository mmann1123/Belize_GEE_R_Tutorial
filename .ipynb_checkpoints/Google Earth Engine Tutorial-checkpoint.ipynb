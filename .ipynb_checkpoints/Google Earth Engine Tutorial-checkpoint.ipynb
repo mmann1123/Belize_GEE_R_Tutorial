{
 "cells": [
  {
   "cell_type": "markdown",
   "metadata": {},
   "source": [
    "# Introduction to Google Earth Engine\n",
    "\n",
    "![EE data](header.png)    \n",
    "\n",
    "In the following page we will walk through the basics for using google earth engine to do remote sensing at large scale with minimal coding experience.\n",
    "\n",
    "The objectives of this tutorial are as follows\n",
    "\n",
    "- Browse and find relevant data\n",
    "- Create cloud-free mosaics\n",
    "- Apply new code examples for Sentinel \n",
    "- Download data\n",
    "- Apply techniques to other data\n",
    "\n",
    "--------------------------"
   ]
  },
  {
   "cell_type": "markdown",
   "metadata": {},
   "source": [
    "# 1 Browse and find relevant data\n",
    "\n",
    "First we need to be able to find relevant data. Google Earth engine hosts a variety of data\n",
    "\n",
    "**Included themes**\n",
    "\n",
    "- Weather and Climate\n",
    "    - Temperatures\n",
    "    - Precipitation\n",
    "    - Drought\n",
    "- Land Use\n",
    "    - Agriculture\n",
    "    - Urban extent\n",
    "    - Population estimates\n",
    "    - Deforestation\n",
    "    - Water bodies\n",
    "- Pollution\n",
    "    - Aerosols\n",
    "    - Sulphur Dioxide\n",
    "    - Ozone\n",
    "- Raw remote sensed data\n",
    "    - True color images\n",
    "    - Other bands (thermal, IR etc)\n",
    "- Topography\n",
    "    - Elevation slope etc\n",
    "- Policy\n",
    "    - Daytime fishing hours\n",
    "    - Wildfire \n",
    "    \n",
    " "
   ]
  },
  {
   "cell_type": "markdown",
   "metadata": {},
   "source": [
    "    "
   ]
  },
  {
   "cell_type": "markdown",
   "metadata": {},
   "source": [
    "![](EE_datacatalog2.png)    \n",
    "\n",
    "#### Let's go to [https://developers.google.com/earth-engine/datasets/](https://developers.google.com/earth-engine/datasets/) \n",
    "    \n",
    "Click on view all datasets, then search for a topic of interest"
   ]
  },
  {
   "cell_type": "markdown",
   "metadata": {},
   "source": [
    "### *Activity*\n",
    "With your neighbor do the following:\n",
    "\n",
    "1) Find one dataset of interest\n",
    "\n",
    "2) Read the description of it, time perid available, coverage etc\n",
    "\n",
    "3) Discuss potential use case\n",
    "\n",
    "4) Discuss potential limitations of the data"
   ]
  },
  {
   "cell_type": "markdown",
   "metadata": {},
   "source": [
    "-------------------"
   ]
  },
  {
   "cell_type": "markdown",
   "metadata": {},
   "source": [
    "# 2 View satellite data\n",
    "\n",
    "Let's start by searching for \n",
    "\n",
    "``` Sentinel-2  ```\n",
    "\n",
    "then click on \"Sentinel-2 MSI:... Level 1-c\"\n",
    "![](GEE_search.png)    \n",
    "\n",
    "Sentinel-2 is a wide-swath, high-resolution, multi-spectral imaging mission supporting Copernicus Land Monitoring studies, including the monitoring of vegetation, soil and water cover, as well as observation of inland waterways and coastal areas.\n",
    "\n",
    "Now click on the \"Open in Editor\" button, then login using your google credentials.\n",
    "\n",
    "![](GEE_snip.png)    \n",
    "\n"
   ]
  },
  {
   "cell_type": "markdown",
   "metadata": {},
   "source": [
    "### Intro to the code editor\n",
    "\n",
    "We are going to be running our code on google's servers, so they built a coding environment for us to use. \n",
    "\n",
    "\n",
    "The parts we will use the most are the\n",
    "- Code editor\n",
    "- Map\n",
    "- Script manager\n",
    "- the Inspector tab\n",
    "- the Tasks tab\n",
    "\n",
    "![](GEE_codeeditor.png)    \n"
   ]
  },
  {
   "cell_type": "markdown",
   "metadata": {},
   "source": [
    "-----------------------------------------------------------------"
   ]
  },
  {
   "cell_type": "markdown",
   "metadata": {},
   "source": [
    "### *Activity*\n",
    "With your neighbor do the following:\n",
    "\n",
    "Click \"run\" ![](GEE_run.png)\n",
    "\n",
    "**TASKS**\n",
    "\n",
    "1) Figure out how to toggle on and off the sentinel image 'layer'\n",
    "2) Figure out how to save your script, name it Belize_Sentinel , *and then figure out where it is saved.*\n",
    "\n",
    "\n",
    "3) Reading through the code, figure out what the following is:\n",
    "\n",
    "![](GEE_collection.png)\n",
    "\n",
    "4) Using the above code, figure out how to change the date range from Jan 1 2017 - Dec 30 2017. Then press the \"run\" button.\n",
    "\n",
    "5) Find the line of code that \"centers\" the map at a specific longitude and latitude. Update it to the center of Belize, then zoom out to see the country, then press \"run\".\n",
    "\n",
    "![](GEE_latlon.png)\n",
    "\n",
    "-------------------\n"
   ]
  },
  {
   "cell_type": "markdown",
   "metadata": {},
   "source": [
    "There are two other main components to the code one function called **mask2cloud** this uses data stored on an image called QA60 to help filter out clouds. It uses a \"mask\" to indicate which pixels have a cloud by assigning them the value of 0 or 1. \n",
    "\n",
    "![](GEE_mask2cloud.png)\n",
    "\n",
    "The final chunk of code does two things, it tells the computer to take the **median** image and show it on our screen. Why median? Remember we are grabbing all images from Sentinel 2 (comes once ~ every 2 days), and filtering out a few cloudy images. So we have close to 180 images for this region. We need to summarize this data on a pixel by pixel basis, but which pixel value should we choose?  Probably median or mean because the represent the middle of the distribution. \n",
    "\n",
    "![](GEE_addlayer.png)\n"
   ]
  },
  {
   "cell_type": "markdown",
   "metadata": {},
   "source": [
    "--------------------------\n",
    "\n",
    "### *Activity*\n",
    "With your neighbor do the following:\n",
    "\n",
    "**TASKS**\n",
    "\n",
    "1) Play around the the function used to summarize a year's worth of data. Try replacing ```median()``` with ```min()```. Then press 'run'. What is happening?\n",
    "\n",
    "2) Try ```max()```. Then press 'run'. What in the world is happening now? \n",
    "\n",
    "![](GEE_addlayer_zoom.png)\n",
    "\n",
    "-------------------------------\n"
   ]
  },
  {
   "cell_type": "markdown",
   "metadata": {},
   "source": [
    "# 3 Apply code examples for Sentinel\n",
    "## A. Variables"
   ]
  },
  {
   "cell_type": "markdown",
   "metadata": {},
   "source": [
    "In this next section we are going to learn a few more basics. In particular we are going to learn how to store data in a new 'variable', then we want to clip the images to just covering Belize, and then download that data to google drive. \n",
    "\n",
    "### What are variables?\n",
    "Variables are simply storage containers like a Tupperware container with a name on it. You can use a variable to store anything: numbers, rasters, data collections, shapefiles etc. \n",
    "\n",
    "You create a variable by assigning a value to a name \n",
    "\n",
    "```var weekly_income = 154```\n",
    "\n",
    "You can then use that variable to make calculations:\n",
    "\n",
    "``` var annual_income = 154 * 52 ```\n",
    "\n",
    "``` print(annual_income) ```\n",
    "\n",
    "``` 8,008 ```\n",
    "\n",
    "### Using variables\n",
    "In this case we might want to store the minimum and median sentinel-2 data for 2017. Let's create two variables by inserting the following into your code:\n",
    "\n",
    "``` var median_image = dataset.median() ```\n",
    "\n",
    "``` var min_image = dataset.min() ```\n",
    "\n",
    "Now let's add them as layers to make sure it worked:\n",
    "\n",
    "``` Map.addLayer(median_image, rgbVis, 'median'); ```\n",
    "\n",
    "``` Map.addLayer(min_image, rgbVis, 'min'); ```\n",
    "\n",
    "Press \"Run\" to see the results.\n",
    "\n",
    "\n",
    "## B. Crop images to Belize\n",
    "It is often helpful to limit your data to a particular boundary (country, district, etc). In this example you will see how to clip your images using polygons. \n",
    "\n",
    "Ok first let's import a shapefile of Belize and add it to the map. Please all the following to the bottom of your code:\n",
    "\n",
    "``` // Get the boundary of Belize from Google's Fusion Table ``` <br>\n",
    "``` // Change Country name for different location ```<br>\n",
    "``` var country_boundary = ee.FeatureCollection('USDOS/LSIB/2013') ```<br>\n",
    "```    .filter(ee.Filter.eq('name', 'BELIZE')); ```<br>\n",
    "\n",
    "``` Map.addLayer(country_boundary, {color: 'FF0000'}, 'Belize'); ```\n",
    "\n",
    "Press \"Run\" and see if the polygon was added.\n",
    "\n",
    "Now we need to see if we can clip the image to the boundary. Luckily, there is a 'clip' function that makes this easy! \n",
    "\n",
    "Insert and run the following code:\n",
    "\n",
    "``` var median_image_clip = median_image.clip(country_boundary) ``` <br>\n",
    "``` var min_image_clip = min_image.clip(country_boundary) ``` \n",
    "\n",
    "``` Map.addLayer(median_image_clip, rgbVis, 'median_clip'); ``` <br>\n",
    "``` Map.addLayer(min_image_clip, rgbVis, 'min_clip'); ```\n",
    "\n",
    "Try toggling on and off the other layers to see if this worked.\n"
   ]
  },
  {
   "cell_type": "markdown",
   "metadata": {},
   "source": [
    "## C. Download data"
   ]
  },
  {
   "cell_type": "markdown",
   "metadata": {},
   "source": [
    "The final step then is to download our two new layers. \n",
    "\n",
    "This is done in two steps \n",
    "\n",
    "1) adding the download code, \n",
    "2) starting the download task\n",
    "\n",
    "### Inserting the download code\n",
    "Please insert the following at the bottom of your code:\n",
    "\n",
    "\n",
    "``` // Export image ``` <br>\n",
    "``` Export.image.toDrive({ ```\n",
    "```   description:\"Belize_median_Sentinel_2017\", //export file name ``` <br>\n",
    "```   image:median_image_clip,                   //data to export ``` <br>\n",
    "```   region:country_boundary,                   //always add a boundary for the download ``` <br>\n",
    "```   folder:\"GEE\",                              //name folder on google drive to save to ``` <br>\n",
    "```   crs: \"EPSG:4326\",                          //contert to lat lon WGS1984 ``` <br>\n",
    "```   skipEmptyTiles: true,                      //dont download anything that is empty ``` <br>\n",
    "```   maxPixels:9000000000                       // just do this every time ``` <br>\n",
    "``` }) ``` \n",
    "\n",
    "---------------------\n",
    "\n",
    "### *Activity*\n",
    "With your neighbor do the following:\n",
    "\n",
    "**TASKS**\n",
    "\n",
    "1) Update the ``` description ``` and ``` image ``` values to download and name the ``` min_image_clip ``` variable\n",
    "\n",
    "Now press \"Run\"... what happens? Nothing yet. \n",
    "\n",
    "-----------------------\n",
    "\n",
    "### Starting a download task\n",
    "We need to tell google earth engine that we want to start a download task. \n",
    "\n",
    "In order to start the download\n",
    "1) Click on the \"task\" tab\n",
    "2) Click on \"RUN\" for both tasks\n",
    "\n",
    "![](GEE_downloadtask.png)\n",
    "\n"
   ]
  },
  {
   "cell_type": "markdown",
   "metadata": {},
   "source": [
    "-------------------\n",
    "\n",
    "# Apply what you learned\n",
    "\n",
    "In the following task we are going to see if we can do something similar with another dataset. This time we will be using LandSat. \n",
    "\n",
    "\n",
    "Let's follow the link here:\n",
    "[LandSat 8 Tier 1 Surface Reflectance](https://developers.google.com/earth-engine/datasets/catalog/LANDSAT_LC08_C01_T1_SR) \n",
    "\n",
    "\n",
    "Open up the example script here:\n",
    "![](GEE_landsat.png)\n"
   ]
  },
  {
   "cell_type": "markdown",
   "metadata": {},
   "source": [
    "### *Activity*\n",
    "With your neighbor do the following:\n",
    "\n",
    "**TASKS**\n",
    "\n",
    "1) Center the image over belize with a zoom level of about 10\n",
    "\n",
    "2) Change the date range to cover all of 2017 \n",
    "\n",
    "3) Create a new variable to store the median() image\n",
    "\n",
    "4) Add the Belize shapefile\n",
    "\n",
    "5) Clip the median image to Belize\n",
    "\n",
    "6) Download the median image"
   ]
  },
  {
   "cell_type": "markdown",
   "metadata": {},
   "source": []
  },
  {
   "cell_type": "markdown",
   "metadata": {},
   "source": []
  },
  {
   "cell_type": "markdown",
   "metadata": {},
   "source": []
  },
  {
   "cell_type": "markdown",
   "metadata": {},
   "source": []
  }
 ],
 "metadata": {
  "kernelspec": {
   "display_name": "R",
   "language": "R",
   "name": "ir"
  },
  "language_info": {
   "codemirror_mode": "r",
   "file_extension": ".r",
   "mimetype": "text/x-r-source",
   "name": "R",
   "pygments_lexer": "r",
   "version": "3.5.1"
  }
 },
 "nbformat": 4,
 "nbformat_minor": 2
}
