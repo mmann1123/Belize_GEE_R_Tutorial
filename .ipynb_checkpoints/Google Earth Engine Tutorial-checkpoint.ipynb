{
 "cells": [
  {
   "cell_type": "markdown",
   "metadata": {},
   "source": [
    "# Introduction to Google Earth Engine\n",
    "\n",
    "![EE data](./Images/header.png)    \n",
    "\n",
    "In the following page we will walk through the basics for using google earth engine to do remote sensing at large scale with minimal coding experience.\n",
    "\n",
    "The objectives of this tutorial are as follows\n",
    "\n",
    "- Browse and find relevant data\n",
    "- View satelite data\n",
    "- Apply code examples for Sentinel \n",
    "- Download data"
   ]
  },
  {
   "cell_type": "markdown",
   "metadata": {},
   "source": [
    "## 1 Browse and find relevant data\n",
    "\n",
    "First we need to be able to find relevant data. Google Earth engine hosts a variety of data\n",
    "\n",
    "Included theme:\n",
    "- Weather and Climate\n",
    "    - Temperatures\n",
    "    - Precipitation\n",
    "    - Drought\n",
    "- Land Use\n",
    "    - Agriculture\n",
    "    - Urban extent\n",
    "    - Population estimates\n",
    "    - Deforestation\n",
    "    - Water bodies\n",
    "- Pollution\n",
    "    - Aerosols\n",
    "    - Sulphur Dioxide\n",
    "    - Ozone\n",
    "- Raw remote sensed data\n",
    "    - True color images\n",
    "    - Other bands (thermal, IR etc)\n",
    "- Topography\n",
    "    - Elevation slope etc\n",
    "- Policy\n",
    "    - Daytime fishing hours\n",
    "    - Wildfire \n",
    "    \n",
    "### Let's go to [https://developers.google.com/earth-engine/datasets/](https://developers.google.com/earth-engine/datasets/) \n",
    "    \n",
    "    \n",
    "    \n",
    "   "
   ]
  },
  {
   "cell_type": "markdown",
   "metadata": {},
   "source": [
    "    "
   ]
  },
  {
   "cell_type": "markdown",
   "metadata": {},
   "source": [
    "![EE data](./Images/EE_datacatalog.png)    "
   ]
  },
  {
   "cell_type": "code",
   "execution_count": null,
   "metadata": {},
   "outputs": [],
   "source": []
  },
  {
   "cell_type": "markdown",
   "metadata": {},
   "source": [
    "## 2 View satelitte data"
   ]
  },
  {
   "cell_type": "markdown",
   "metadata": {},
   "source": [
    "## 3 Apply code examples for Sentinel"
   ]
  },
  {
   "cell_type": "markdown",
   "metadata": {},
   "source": [
    "## 4 Download data"
   ]
  },
  {
   "cell_type": "code",
   "execution_count": null,
   "metadata": {},
   "outputs": [],
   "source": []
  },
  {
   "cell_type": "code",
   "execution_count": null,
   "metadata": {},
   "outputs": [],
   "source": []
  }
 ],
 "metadata": {
  "kernelspec": {
   "display_name": "Python 3",
   "language": "python",
   "name": "python3"
  },
  "language_info": {
   "codemirror_mode": {
    "name": "ipython",
    "version": 3
   },
   "file_extension": ".py",
   "mimetype": "text/x-python",
   "name": "python",
   "nbconvert_exporter": "python",
   "pygments_lexer": "ipython3",
   "version": "3.6.7"
  }
 },
 "nbformat": 4,
 "nbformat_minor": 2
}
