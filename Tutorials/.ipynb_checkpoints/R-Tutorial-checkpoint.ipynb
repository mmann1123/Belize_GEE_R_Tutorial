{
 "cells": [
  {
   "cell_type": "code",
   "execution_count": 4,
   "metadata": {
    "scrolled": false
   },
   "outputs": [
    {
     "name": "stderr",
     "output_type": "stream",
     "text": [
      "also installing the dependencies ‘gh’, ‘usethis’, ‘httr’\n",
      "\n",
      "Updating HTML index of packages in '.Library'\n",
      "Making 'packages.html' ... done\n"
     ]
    }
   ],
   "source": [
    "#options(warn=-1)\n",
    "\n",
    "#install.packages('sf')\n",
    "#install.packages('raster')\n",
    "install.packages('devtools')\n",
    "#devtools::install_github(\"tidyverse/ggplot2\")"
   ]
  },
  {
   "cell_type": "code",
   "execution_count": 3,
   "metadata": {},
   "outputs": [
    {
     "name": "stderr",
     "output_type": "stream",
     "text": [
      "Warning message in install.packages(\"udunits2\", configure.args = c(\"--with-udunits2-lib=/usr/lib/x86_64-linux-gnu\", :\n",
      "“installation of package ‘udunits2’ had non-zero exit status”Updating HTML index of packages in '.Library'\n",
      "Making 'packages.html' ... done\n"
     ]
    }
   ],
   "source": [
    "#install.packages('curl')\n",
    "install.packages('udunits2', configure.args=c('--with-udunits2-lib=/usr/lib/x86_64-linux-gnu', '--with-udunits2-include=/usr/include'), repos='http://cran.us.r-project.org/')\n",
    "#library(sf)\n",
    "#library(raster)\n"
   ]
  }
 ],
 "metadata": {
  "kernelspec": {
   "display_name": "R",
   "language": "R",
   "name": "ir"
  },
  "language_info": {
   "codemirror_mode": "r",
   "file_extension": ".r",
   "mimetype": "text/x-r-source",
   "name": "R",
   "pygments_lexer": "r",
   "version": "3.5.1"
  }
 },
 "nbformat": 4,
 "nbformat_minor": 2
}
