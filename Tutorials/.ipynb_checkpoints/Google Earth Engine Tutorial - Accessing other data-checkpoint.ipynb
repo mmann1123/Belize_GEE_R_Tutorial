{
 "cells": [
  {
   "cell_type": "markdown",
   "metadata": {},
   "source": [
    "# Introduction to Google Earth Engine\n",
    "## Accessing other data\n",
    "___________________________________\n",
    "\n",
    "![EE data](header.png)    \n",
    "\n",
    "The following tutorial will help us learn how to access and download other dataset that might be of interest.\n",
    "\n",
    "The objectives of this tutorial are as follows:\n",
    "\n",
    "- Access and download night-time lights data & gridded population estimates\n",
    "- Visualize time series with plots \n",
    "- Download tabular data \n",
    "\n"
   ]
  },
  {
   "cell_type": "markdown",
   "metadata": {},
   "source": [
    "-------------\n",
    "![](EE_datacatalog2.png)    \n",
    "\n",
    "Let's go back to (https://developers.google.com/earth-engine/datasets/](https://developers.google.com/earth-engine/datasets/) \n",
    "\n",
    "Look for the following dataset ``` VIIRS Stray Light Corrected Nighttime Day/Night Band Composites Version 1  ```\n",
    "\n",
    "\n",
    "The VIIRS DNB layer is created using a sensing technique designed to capture low-light emissions under varying illumination conditions, and is displayed as a gray-scale image. DNB imagery products in GIBS are available from 11 November 2016 to present.\n",
    "\n",
    "DNB imagery have a wide range of applications for a broad spectrum of data users. Along with their primary purpose of supporting the short-term weather prediction and disaster response communities, they also have numerous socioeconomic uses, such as analyzing changes in population density using nighttime lights or spotting power outages in the absence of lights in known urban areas. A number of sources contribute to the DNB signal, including city lights, lightning, fishing fleet navigation lights, gas flares, lava flows, and even auroras.\n",
    "\n",
    "\n",
    "- Open the data in the code editor: \n",
    "![](GEE_VIIRS.png)\n",
    "\n",
    "\n",
    "- Press 'Run' and spend some time zooming around Belize. \n",
    "\n"
   ]
  },
  {
   "cell_type": "markdown",
   "metadata": {},
   "source": [
    "------------\n",
    "## Visualize data time series\n",
    "This code allows users to dynamically generate time series plots for from points that are dynamically chosen on a map on the fly. Here we will see if there have been any changes in night time lights from 2014 to 2018. Daynight band (DNB) data are presented as Average DNB radiance values (nanoWatts/cm2) by month. \n",
    "\n",
    "- Now let's change the date filter to range between ``'2014-01-01', '2018-01-01'```\n",
    "\n",
    "- Press run \n",
    "\n",
    "Note that we aren't applying a summary function like ```median()``` to these time series yet. As result the  ```nighttime``` variable is a collection of images spanning that period. \n",
    "\n",
    "To see what I mean:\n",
    "- Add ```print(nighttime)``` and press \"Run\" again. \n",
    "![](GEE_nighttimeprint.png)\n",
    "\n",
    "This allows us to see what is in the nighttime collection in the 'Console' tab to the right.\n",
    "\n",
    "![](GEE_VIIRScollection.png)\n",
    "\n",
    "Now let's try to visualize mean nighttime lights for Belize City. First we need to create a polygon to isolate the area we are interested in. \n",
    "\n",
    "- Let's create a user defined polygon over Belize city.  \n",
    "![](GEE_createpoly.gif)\n",
    "<br>\n",
    "\n",
    "- We need to change the name of the polygon from ```geometry``` to ```Belize_city``` \n",
    "\n",
    "![](GEE_BelizeCity.gif)\n",
    "<br>\n",
    "\n",
    "This is the name by which we will refer to the polygon from this point on\n"
   ]
  },
  {
   "cell_type": "markdown",
   "metadata": {},
   "source": [
    "Now we need to tell google earth engine that we want to make a chart that presents the average neighttime lights data for our Belize_city polygon. \n",
    "\n",
    "- Insert this code at the bottom of your script\n",
    "\n",
    "```javascript\n",
    "\n",
    "// Chart annual time series of mean nighttime lights\n",
    "// from our VIIRS DNB data\n",
    "var chart = ui.Chart.image.series({\n",
    "    imageCollection: nighttime,          // image collection to plot\n",
    "    region: Belize_city,                 // area of interest (AOI)\n",
    "    reducer: ee.Reducer.mean(),          // method for summarizing across multiple pixels inside of AOI\n",
    "    scale: 500,                          // spatial resolution of input data in meters\n",
    "})\n",
    "print(chart)  //** Can export the figure or data in the pop-out\n",
    "\n",
    "```\n",
    "- Press \"Run\" \n",
    "\n",
    "We can see that it has generated a line plot of our monthly lights data. To get a better look and to have access to this data in tabular form (csv) we can click the pop-out.\n",
    "\n",
    "- Press the pop-out button \n",
    "![](GEE_timeseries.png)\n",
    "\n",
    "We can then download our data as a csv. \n",
    "![](GEE_timeseriesdownload.png)\n",
    "\n",
    "- Let's save it to our computer with the name ```DNB_2014_2018.csv``` in the folder named ```./Belize_GEE_R_Tutorial/Example_Data``` \n"
   ]
  }
 ],
 "metadata": {
  "kernelspec": {
   "display_name": "R",
   "language": "R",
   "name": "ir"
  },
  "language_info": {
   "codemirror_mode": "r",
   "file_extension": ".r",
   "mimetype": "text/x-r-source",
   "name": "R",
   "pygments_lexer": "r",
   "version": "3.5.1"
  }
 },
 "nbformat": 4,
 "nbformat_minor": 2
}
