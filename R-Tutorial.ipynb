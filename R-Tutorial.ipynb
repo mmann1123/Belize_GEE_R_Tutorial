{
 "cells": [
  {
   "cell_type": "code",
   "execution_count": 1,
   "metadata": {},
   "outputs": [
    {
     "name": "stderr",
     "output_type": "stream",
     "text": [
      "also installing the dependencies ‘lattice’, ‘magrittr’, ‘stringi’, ‘colorspace’, ‘nlme’, ‘Matrix’, ‘plyr’, ‘stringr’, ‘labeling’, ‘munsell’, ‘R6’, ‘RColorBrewer’, ‘pkgconfig’, ‘gtable’, ‘lazyeval’, ‘MASS’, ‘mgcv’, ‘reshape2’, ‘scales’, ‘tibble’, ‘viridisLite’, ‘withr’\n",
      "\n",
      "Updating HTML index of packages in '.Library'\n",
      "Making 'packages.html' ... done\n",
      "also installing the dependencies ‘e1071’, ‘class’, ‘KernSmooth’, ‘classInt’, ‘DBI’, ‘units’\n",
      "\n",
      "Warning message in install.packages(\"sf\"):\n",
      "“installation of package ‘units’ had non-zero exit status”Warning message in install.packages(\"sf\"):\n",
      "“installation of package ‘sf’ had non-zero exit status”Updating HTML index of packages in '.Library'\n",
      "Making 'packages.html' ... done\n"
     ]
    }
   ],
   "source": [
    "install.packages('ggplot2')\n",
    "install.packages('sf')"
   ]
  }
 ],
 "metadata": {
  "kernelspec": {
   "display_name": "R",
   "language": "R",
   "name": "ir"
  },
  "language_info": {
   "codemirror_mode": "r",
   "file_extension": ".r",
   "mimetype": "text/x-r-source",
   "name": "R",
   "pygments_lexer": "r",
   "version": "3.5.1"
  }
 },
 "nbformat": 4,
 "nbformat_minor": 2
}
